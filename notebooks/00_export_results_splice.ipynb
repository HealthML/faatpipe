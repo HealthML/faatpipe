{
 "cells": [
  {
   "cell_type": "code",
   "execution_count": null,
   "metadata": {},
   "outputs": [],
   "source": [
    "import os\n",
    "#os.chdir('../')"
   ]
  },
  {
   "cell_type": "markdown",
   "metadata": {},
   "source": [
    "## Export results for splicing"
   ]
  },
  {
   "cell_type": "code",
   "execution_count": null,
   "metadata": {},
   "outputs": [],
   "source": [
    "import pandas as pd\n",
    "import numpy as np\n",
    "import gzip\n",
    "from glob import glob"
   ]
  },
  {
   "cell_type": "code",
   "execution_count": null,
   "metadata": {},
   "outputs": [],
   "source": [
    "import scipy.stats as st"
   ]
  },
  {
   "cell_type": "code",
   "execution_count": null,
   "metadata": {},
   "outputs": [],
   "source": [
    "from script.python.util.snake import clean_str\n",
    "\n",
    "import yaml\n",
    "\n",
    "with open('conf/config.yaml') as f:\n",
    "    config = yaml.load(f, Loader=yaml.FullLoader)"
   ]
  },
  {
   "cell_type": "code",
   "execution_count": null,
   "metadata": {},
   "outputs": [],
   "source": [
    "\n",
    "if config['phenotypes'].endswith('.gz'):\n",
    "    with gzip.open(config['phenotypes'],'rt') as f:\n",
    "        phenotypes = f.readline().rstrip().split('\\t')\n",
    "else:\n",
    "    with open(config['phenotypes'], 'r') as f:\n",
    "        phenotypes = f.readline.rstrip().split('\\t')\n",
    "\n",
    "phenotypes = { clean_str(p): p  for p in phenotypes[1:] }"
   ]
  },
  {
   "cell_type": "code",
   "execution_count": null,
   "metadata": {},
   "outputs": [],
   "source": [
    "def estimate_lambda(pv):\n",
    "\n",
    "    '''\n",
    "    estimate the lambda for a given array of P-values\n",
    "    ------------------------------------------------------------------\n",
    "    pv          numpy array containing the P-values\n",
    "    ------------------------------------------------------------------\n",
    "    L           lambda value\n",
    "    ------------------------------------------------------------------\n",
    "    '''\n",
    "    \n",
    "    LOD2 = np.median(st.chi2.isf(np.abs(pv[~np.isnan(pv)]), 1))\n",
    "    L = (LOD2/st.chi2(1).median())\n",
    "    \n",
    "    return L"
   ]
  },
  {
   "cell_type": "code",
   "execution_count": null,
   "metadata": {},
   "outputs": [],
   "source": [
    "def rename_cols(cols, suffix=''):\n",
    "    return {c: c+suffix if c not in ['gene', 'pheno'] else c for c in cols}"
   ]
  },
  {
   "cell_type": "code",
   "execution_count": null,
   "metadata": {},
   "outputs": [],
   "source": [
    "outfiles = glob('./work/association/sclrt_kernels_spliceai/all/*/results.tsv.gz')"
   ]
  },
  {
   "cell_type": "code",
   "execution_count": null,
   "metadata": {},
   "outputs": [],
   "source": [
    "results = [ pd.read_csv(s, sep='\\t', na_values='.') for s in outfiles ]"
   ]
  },
  {
   "cell_type": "code",
   "execution_count": null,
   "metadata": {},
   "outputs": [],
   "source": [
    "results = pd.concat(results)"
   ]
  },
  {
   "cell_type": "code",
   "execution_count": null,
   "metadata": {},
   "outputs": [],
   "source": [
    "dropcols = list((c for c in results.columns if c.startswith('lrtstat_') or c.startswith('alteqnull_')))"
   ]
  },
  {
   "cell_type": "code",
   "execution_count": null,
   "metadata": {},
   "outputs": [],
   "source": [
    "dropcols"
   ]
  },
  {
   "cell_type": "code",
   "execution_count": null,
   "metadata": {},
   "outputs": [],
   "source": [
    "results.drop(columns=dropcols, inplace=True)"
   ]
  },
  {
   "cell_type": "code",
   "execution_count": null,
   "metadata": {},
   "outputs": [],
   "source": [
    "results = results[results.nCarrier >= 5]"
   ]
  },
  {
   "cell_type": "code",
   "execution_count": null,
   "metadata": {},
   "outputs": [],
   "source": [
    "pv_cols = list((c for c in results.columns if c.startswith('pv_')))"
   ]
  },
  {
   "cell_type": "code",
   "execution_count": null,
   "metadata": {},
   "outputs": [],
   "source": [
    "results.rename(columns=rename_cols(results.columns, '_splice'), inplace=True)"
   ]
  },
  {
   "cell_type": "code",
   "execution_count": null,
   "metadata": {},
   "outputs": [],
   "source": [
    "tmp = results.copy()\n",
    "\n",
    "pv_cols = list(c for c in tmp.columns if 'pv_' in c)\n",
    "for col in pv_cols:\n",
    "    if 'score' in col:\n",
    "        continue\n",
    "    if ('cLOF' in col) or ('mrgLOF' in col):\n",
    "        continue\n",
    "    kernel = col.split('_')[2]\n",
    "    effect = col.split('_')[-1]\n",
    "    \n",
    "    tmp.loc[tmp[col].isna(),col] = tmp.loc[tmp[col].isna(), 'pv_score_{}_{}'.format(kernel, effect)]\n",
    "    print(col)\n",
    "\n",
    "results = tmp\n",
    "del tmp"
   ]
  },
  {
   "cell_type": "code",
   "execution_count": null,
   "metadata": {},
   "outputs": [],
   "source": [
    "lambda_val =  results.groupby(['pheno'])[pv_cols].agg(estimate_lambda)"
   ]
  },
  {
   "cell_type": "code",
   "execution_count": null,
   "metadata": {},
   "outputs": [],
   "source": [
    "pd.options.display.max_columns = 100"
   ]
  },
  {
   "cell_type": "code",
   "execution_count": null,
   "metadata": {},
   "outputs": [],
   "source": [
    "results.sort_values('pv_lrt_linwb_splice')[['pheno'] + results.columns.to_list()].head(30)"
   ]
  },
  {
   "cell_type": "code",
   "execution_count": null,
   "metadata": {},
   "outputs": [],
   "source": [
    "results.sort_values('pv_lrt_linw_splice')[['pheno'] + results.columns.to_list()].head(30)"
   ]
  },
  {
   "cell_type": "code",
   "execution_count": null,
   "metadata": {},
   "outputs": [],
   "source": [
    "lambda_val"
   ]
  },
  {
   "cell_type": "code",
   "execution_count": null,
   "metadata": {},
   "outputs": [],
   "source": [
    "lambda_val.to_csv('results/tables/lambdaval_splice.tsv', sep='\\t')\n",
    "results.to_csv('results/tables/results_splice.tsv.gz', sep='\\t', index=False)"
   ]
  }
 ],
 "metadata": {
  "kernelspec": {
    "display_name": "Python 3",
    "language": "python",
    "name": "python3"
},
  "language_info": {
   "codemirror_mode": {
    "name": "ipython",
    "version": 3
   },
   "file_extension": ".py",
   "mimetype": "text/x-python",
   "name": "python",
   "nbconvert_exporter": "python",
   "pygments_lexer": "ipython3",
   "version": "3.8.2"
  }
 },
 "nbformat": 4,
 "nbformat_minor": 4
}
