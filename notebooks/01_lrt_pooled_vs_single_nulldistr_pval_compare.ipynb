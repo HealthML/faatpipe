{
 "cells": [
  {
   "cell_type": "code",
   "execution_count": null,
   "id": "df4f0e22",
   "metadata": {},
   "outputs": [],
   "source": [
    "import pandas as pd\n",
    "import numpy as np\n",
    "from seak.lrt import pv_chi2mixture\n",
    "# import seaborn as sns\n",
    "# import matplotlib.pyplot as plt\n",
    "import os"
   ]
  },
  {
   "cell_type": "markdown",
   "id": "836c871d",
   "metadata": {},
   "source": [
    "### Comparison of p-values from gene-specific LRT null distributions vs genome-wide (pooled) null distribution"
   ]
  },
  {
   "cell_type": "code",
   "execution_count": null,
   "id": "38761072",
   "metadata": {},
   "outputs": [],
   "source": [
    "infile = snakemake.input.lrt_tsv"
   ]
  },
  {
   "cell_type": "code",
   "execution_count": null,
   "id": "eefdb438",
   "metadata": {},
   "outputs": [],
   "source": [
    "results = pd.read_csv(infile, sep='\\t')"
   ]
  },
  {
   "cell_type": "code",
   "execution_count": null,
   "id": "430efbb2",
   "metadata": {},
   "outputs": [],
   "source": [
    "results.shape"
   ]
  },
  {
   "cell_type": "code",
   "execution_count": null,
   "id": "f13949fc",
   "metadata": {},
   "outputs": [],
   "source": [
    "chi2mixparam = pd.read_csv(snakemake.input.chi2param, sep='\\t', index_col=0)"
   ]
  },
  {
   "cell_type": "code",
   "execution_count": null,
   "id": "e5b6189d",
   "metadata": {},
   "outputs": [],
   "source": [
    "chi2mixparam"
   ]
  },
  {
   "cell_type": "code",
   "execution_count": null,
   "id": "81810db7",
   "metadata": {},
   "outputs": [],
   "source": [
    "# kern = ['linwb', 'linw', 'linwb_mrgLOF', 'linw_cLOF']\n",
    "kern = snakemake.params.kern"
   ]
  },
  {
   "cell_type": "code",
   "execution_count": null,
   "id": "0ad6fc26",
   "metadata": {},
   "outputs": [],
   "source": [
    "def calc_pval(k):\n",
    "    return pv_chi2mixture(dof=chi2mixparam.loc['dof',k], mixture=chi2mixparam.loc['mixture',k], scale=chi2mixparam.loc['scale',k], stat=np.where(~results['scale_'+k].isna(), results['lrtstat_'+k], 0.))"
   ]
  },
  {
   "cell_type": "code",
   "execution_count": null,
   "id": "69127779",
   "metadata": {},
   "outputs": [],
   "source": [
    "recalc_pval = pd.DataFrame({'pv_lrt_' + k: calc_pval(k) for k in kern},index=results.gene).reset_index()"
   ]
  },
  {
   "cell_type": "code",
   "execution_count": null,
   "id": "84a17e03",
   "metadata": {},
   "outputs": [],
   "source": [
    "recalc_pval.head()"
   ]
  },
  {
   "cell_type": "code",
   "execution_count": null,
   "id": "cb130a3b",
   "metadata": {},
   "outputs": [],
   "source": [
    "pvcols = ['pv_lrt_' + k for k in kern]\n",
    "res_merged = results[['gene'] + pvcols ].merge(recalc_pval, on='gene', suffixes=['_single','_pooled'])"
   ]
  },
  {
   "cell_type": "code",
   "execution_count": null,
   "id": "68da3674",
   "metadata": {},
   "outputs": [],
   "source": [
    "res_merged.set_index('gene', inplace=True)"
   ]
  },
  {
   "cell_type": "code",
   "execution_count": null,
   "id": "fac40975",
   "metadata": {},
   "outputs": [],
   "source": [
    "#plt.rcParams['figure.figsize'] = [5, 5]"
   ]
  },
  {
   "cell_type": "code",
   "execution_count": null,
   "id": "5333c587",
   "metadata": {},
   "outputs": [],
   "source": [
    "# plotting p-value of gene-specific LRT null distr. vs pooled LRT null distr.\n",
    "# for i, _ in enumerate(kern):\n",
    "#     sns.scatterplot(x='pv_lrt_'+kern[i]+'_single', y='pv_lrt_'+kern[i]+'_pooled', data=res_merged)\n",
    "#     plt.title(kern[i])\n",
    "#     plt.show()"
   ]
  },
  {
   "cell_type": "code",
   "execution_count": null,
   "id": "459ec7de",
   "metadata": {},
   "outputs": [],
   "source": [
    "# plotting -log10(p-value) of gene-specific LRT null distr. vs pooled LRT null distr.\n",
    "# for i, _ in enumerate(kern):\n",
    "#     sns.scatterplot(x='pv_lrt_'+kern[i]+'_single', y='pv_lrt_'+kern[i]+'_pooled', data=-np.log10(res_merged))\n",
    "#     plt.title(kern[i])\n",
    "#     plt.show()"
   ]
  },
  {
   "cell_type": "code",
   "execution_count": null,
   "id": "a25de24f",
   "metadata": {},
   "outputs": [],
   "source": [
    "cors = np.log10(res_merged).corr()"
   ]
  },
  {
   "cell_type": "code",
   "execution_count": null,
   "id": "5e5de88c",
   "metadata": {},
   "outputs": [],
   "source": [
    "# correlation of log10 p-values\n",
    "cors"
   ]
  },
  {
   "cell_type": "code",
   "execution_count": null,
   "id": "2769854a",
   "metadata": {},
   "outputs": [],
   "source": [
    "res_merged['pheno'] = results['pheno'].iloc[0]"
   ]
  },
  {
   "cell_type": "code",
   "execution_count": null,
   "id": "c9e1667a",
   "metadata": {},
   "outputs": [],
   "source": [
    "outfile = os.path.dirname(snakemake.input.lrt_tsv) + '/pval_comparison_lrt_pooled_vs_single.tsv.gz'"
   ]
  },
  {
   "cell_type": "code",
   "execution_count": null,
   "id": "6b9be7b2",
   "metadata": {},
   "outputs": [],
   "source": [
    "# export results\n",
    "res_merged.to_csv(outfile, index=True, header=True, sep='\\t')"
   ]
  }
 ],
 "metadata": {
  "kernelspec": {
   "display_name": "Python 3",
   "language": "python",
   "name": "python3"
  },
  "language_info": {
   "codemirror_mode": {
    "name": "ipython",
    "version": 3
   },
   "file_extension": ".py",
   "mimetype": "text/x-python",
   "name": "python",
   "nbconvert_exporter": "python",
   "pygments_lexer": "ipython3",
   "version": "3.8.8"
  }
 },
 "nbformat": 4,
 "nbformat_minor": 5
}
