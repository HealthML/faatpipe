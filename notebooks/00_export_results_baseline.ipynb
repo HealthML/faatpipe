{
 "cells": [
  {
   "cell_type": "code",
   "execution_count": null,
   "metadata": {},
   "outputs": [],
   "source": [
    "import os\n",
    "# os.chdir('../')"
   ]
  },
  {
   "cell_type": "code",
   "execution_count": null,
   "metadata": {},
   "outputs": [],
   "source": [
    "import pandas as pd\n",
    "import numpy as np\n",
    "import gzip\n",
    "from glob import glob\n",
    "import yaml\n",
    "import scipy.stats as st"
   ]
  },
  {
   "cell_type": "markdown",
   "metadata": {},
   "source": [
    "## Export results for simple gene-based collapsing approach using the score-test and calculate lambda"
   ]
  },
  {
   "cell_type": "code",
   "execution_count": null,
   "metadata": {},
   "outputs": [],
   "source": [
    "from script.python.util.snake import clean_str\n",
    "\n",
    "import yaml\n",
    "\n",
    "with open('./conf/config.yaml') as f:\n",
    "    config = yaml.load(f, Loader=yaml.FullLoader)\n",
    "\n",
    "if config['phenotypes'].endswith('.gz'):\n",
    "    with gzip.open(config['phenotypes'],'rt') as f:\n",
    "        phenotypes = f.readline().rstrip().split('\\t')\n",
    "else:\n",
    "    with open(config['phenotypes'], 'r') as f:\n",
    "        phenotypes = f.readline.rstrip().split('\\t')\n",
    "\n",
    "phenotypes = { clean_str(p): p  for p in phenotypes[1:] }"
   ]
  },
  {
   "cell_type": "code",
   "execution_count": null,
   "metadata": {},
   "outputs": [],
   "source": [
    "def estimate_lambda(pv):\n",
    "\n",
    "    '''\n",
    "    estimate the lambda for a given array of P-values\n",
    "    ------------------------------------------------------------------\n",
    "    pv          numpy array containing the P-values\n",
    "    ------------------------------------------------------------------\n",
    "    L           lambda value\n",
    "    ------------------------------------------------------------------\n",
    "    '''\n",
    "    \n",
    "    LOD2 = np.median(st.chi2.isf(np.abs(pv[~np.isnan(pv)]), 1))\n",
    "    L = (LOD2/st.chi2(1).median())\n",
    "    \n",
    "    return L"
   ]
  },
  {
   "cell_type": "code",
   "execution_count": null,
   "metadata": {},
   "outputs": [],
   "source": [
    "outfiles = glob('./work/association/baseline_scoretest/all/*/results_*')"
   ]
  },
  {
   "cell_type": "code",
   "execution_count": null,
   "metadata": {},
   "outputs": [],
   "source": [
    "pheno = [ phenotypes[s.split('/')[-2]] for s in outfiles ]"
   ]
  },
  {
   "cell_type": "code",
   "execution_count": null,
   "metadata": {},
   "outputs": [],
   "source": [
    "filterhc = [ s.split('/')[-3] for s in outfiles ]"
   ]
  },
  {
   "cell_type": "code",
   "execution_count": null,
   "metadata": {},
   "outputs": [],
   "source": [
    "results = [ pd.read_csv(s, sep='\\t', na_values='.') for s in outfiles ]"
   ]
  },
  {
   "cell_type": "code",
   "execution_count": null,
   "metadata": {},
   "outputs": [],
   "source": [
    "for i, p in enumerate(pheno):\n",
    "    results[i]['pheno'] = p"
   ]
  },
  {
   "cell_type": "code",
   "execution_count": null,
   "metadata": {},
   "outputs": [],
   "source": [
    "results = pd.concat(list(r for i, r in enumerate(results) if filterhc[i] == 'all')) "
   ]
  },
  {
   "cell_type": "code",
   "execution_count": null,
   "metadata": {},
   "outputs": [],
   "source": [
    "pd.set_option('display.max_rows',100)"
   ]
  },
  {
   "cell_type": "code",
   "execution_count": null,
   "metadata": {},
   "outputs": [],
   "source": [
    "results = results[np.maximum(results.nCarrier_pLOF, results.nCarrier_missense) >= 5]"
   ]
  },
  {
   "cell_type": "code",
   "execution_count": null,
   "metadata": {},
   "outputs": [],
   "source": [
    "results.sort_values('pv_mrg').head(20)"
   ]
  },
  {
   "cell_type": "code",
   "execution_count": null,
   "metadata": {},
   "outputs": [],
   "source": [
    "results.rename(columns={'pv_pLOF':'pv_score_linb_pLOF','pv_missense':'pv_score_linb_miss','pv_mrg':'pv_score_linb_mrgLOF_miss'}, inplace=True) # renaming according to convention"
   ]
  },
  {
   "cell_type": "code",
   "execution_count": null,
   "metadata": {},
   "outputs": [],
   "source": [
    "pv_cols = list(c for c in results.columns if c.startswith('pv_'))"
   ]
  },
  {
   "cell_type": "code",
   "execution_count": null,
   "metadata": {},
   "outputs": [],
   "source": [
    "pv_cols"
   ]
  },
  {
   "cell_type": "code",
   "execution_count": null,
   "metadata": {},
   "outputs": [],
   "source": [
    "lambda_val =  results.groupby(['pheno'])[pv_cols].agg(estimate_lambda)"
   ]
  },
  {
   "cell_type": "code",
   "execution_count": null,
   "metadata": {},
   "outputs": [],
   "source": [
    "lambda_val"
   ]
  },
  {
   "cell_type": "code",
   "execution_count": null,
   "metadata": {},
   "outputs": [],
   "source": [
    "lambda_val.to_csv('results/tables/lambdaval_baseline.tsv', sep='\\t')\n",
    "results.to_csv('results/tables/results_baseline.tsv.gz', sep='\\t', index=False)"
   ]
  }
 ],
 "metadata": {
  "kernelspec": {
   "display_name": "seak",
   "language": "python",
   "name": "seak"
  },
  "language_info": {
   "codemirror_mode": {
    "name": "ipython",
    "version": 3
   },
   "file_extension": ".py",
   "mimetype": "text/x-python",
   "name": "python",
   "nbconvert_exporter": "python",
   "pygments_lexer": "ipython3",
   "version": "3.8.2"
  }
 },
 "nbformat": 4,
 "nbformat_minor": 4
}
