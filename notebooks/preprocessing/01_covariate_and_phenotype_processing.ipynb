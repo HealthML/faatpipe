{
 "cells": [
  {
   "cell_type": "markdown",
   "metadata": {},
   "source": [
    "## Quantile transformation and filtering for phenotypes / covariates\n",
    "Basic pre-processing notebook."
   ]
  },
  {
   "cell_type": "code",
   "execution_count": null,
   "metadata": {},
   "outputs": [],
   "source": [
    "import pandas as pd\n",
    "import numpy as np\n",
    "import yaml\n",
    "import os\n",
    "import seaborn as sns\n",
    "\n",
    "from numpy import unique\n",
    "from numpy import setdiff1d\n",
    "from sklearn.preprocessing import quantile_transform"
   ]
  },
  {
   "cell_type": "code",
   "execution_count": null,
   "metadata": {},
   "outputs": [],
   "source": [
    "# os.chdir('../../../') # change to the main project directory"
   ]
  },
  {
   "cell_type": "code",
   "execution_count": null,
   "metadata": {},
   "outputs": [],
   "source": [
    "with open('conf/config.yaml', 'r') as stream:\n",
    "    try:\n",
    "        config = (yaml.load(stream))\n",
    "    except Exception as ex:\n",
    "        print ex"
   ]
  },
  {
   "cell_type": "code",
   "execution_count": null,
   "metadata": {},
   "outputs": [],
   "source": [
    "pheno_file = config['phenotypes_raw']\n",
    "covar_file = config['covariates_raw']\n",
    "\n",
    "pheno = pd.read_csv(pheno_file, sep='\\t', header=0, index_col=['iid'])\n",
    "covar = pd.read_csv(covar_file, sep='\\t', header=0, index_col=['iid'])"
   ]
  },
  {
   "cell_type": "code",
   "execution_count": null,
   "metadata": {},
   "outputs": [],
   "source": [
    "iid_withdraw = config['iid_withdraw']\n",
    "iid_wd = []\n",
    "with open(iid_withdraw, 'r') as infile:\n",
    "    for l in infile:\n",
    "        iid_wd.append(int(l.strip()))\n",
    "iid_wd = unique(iid_wd + [-1])"
   ]
  },
  {
   "cell_type": "code",
   "execution_count": null,
   "metadata": {},
   "outputs": [],
   "source": [
    "iid_exclude = config['iid_exclude']\n",
    "iid_excl = []\n",
    "for path in iid_exclude:\n",
    "    with open(path, 'r') as infile:\n",
    "        for l in infile:\n",
    "            iid_excl.append(int(l.strip()))"
   ]
  },
  {
   "cell_type": "code",
   "execution_count": null,
   "metadata": {},
   "outputs": [],
   "source": [
    "iid_covar = setdiff1d(covar.index.values, iid_wd)\n",
    "iid_pheno = setdiff1d(pheno.index.values, iid_wd)"
   ]
  },
  {
   "cell_type": "code",
   "execution_count": null,
   "metadata": {},
   "outputs": [],
   "source": [
    "print(len(iid_covar))"
   ]
  },
  {
   "cell_type": "code",
   "execution_count": null,
   "metadata": {},
   "outputs": [],
   "source": [
    "print(len(iid_pheno))"
   ]
  },
  {
   "cell_type": "code",
   "execution_count": null,
   "metadata": {},
   "outputs": [],
   "source": [
    "pheno = pheno.loc[iid_pheno]\n",
    "covar = covar.loc[iid_covar]"
   ]
  },
  {
   "cell_type": "code",
   "execution_count": null,
   "metadata": {},
   "outputs": [],
   "source": [
    "iid_covar = setdiff1d(covar.index.values, iid_excl)\n",
    "iid_pheno = setdiff1d(pheno.index.values, iid_excl)"
   ]
  },
  {
   "cell_type": "code",
   "execution_count": null,
   "metadata": {},
   "outputs": [],
   "source": [
    "pheno = pheno.loc[iid_covar]\n",
    "covar = covar.loc[iid_pheno]"
   ]
  },
  {
   "cell_type": "code",
   "execution_count": null,
   "metadata": {},
   "outputs": [],
   "source": [
    "pcor = pheno.corr()"
   ]
  },
  {
   "cell_type": "code",
   "execution_count": null,
   "metadata": {},
   "outputs": [],
   "source": [
    "sns.clustermap(pcor, cmap='RdBu_r', center=0., figsize=(13,13)) #phenotype "
   ]
  },
  {
   "cell_type": "code",
   "execution_count": null,
   "metadata": {},
   "outputs": [],
   "source": [
    "def transform(x, seed=1):\n",
    "    '''\n",
    "    returns Gaussian quantile transformed values, \"nan\" are kept\n",
    "    '''\n",
    "    np.random.seed(seed)\n",
    "    x_transform = x.copy().values\n",
    "    is_nan = np.isnan(x_transform)\n",
    "    n_quantiles = np.sum(~is_nan)\n",
    "        \n",
    "    x_transform[~is_nan] = quantile_transform(x_transform[~is_nan].reshape([-1, 1]), n_quantiles=n_quantiles, subsample=n_quantiles, output_distribution='normal', copy=True)[:,0]\n",
    "    return x_transform"
   ]
  },
  {
   "cell_type": "code",
   "execution_count": null,
   "metadata": {},
   "outputs": [],
   "source": [
    "pheno_transform_all = pheno.transform(lambda x: transform(x, seed=100))"
   ]
  },
  {
   "cell_type": "code",
   "execution_count": null,
   "metadata": {},
   "outputs": [],
   "source": [
    "# sklearn sometimes produces uggly pipelups at the extreme ends of ranges when it can't break ties.\n",
    "# this sets the values of those extreme values to the second highest/lowest values in the range in order to prevent too many extreme outliers\n",
    "# this should not affect most phenotypes\n",
    "\n",
    "for p in pheno_transform_all.columns:\n",
    "    \n",
    "    if np.sum(pheno_transform_all[p] == np.nanmin(pheno_transform_all[p])) > 1:\n",
    "        \n",
    "        new_min = pheno_transform_all[p].dropna().sort_values().unique()[1]\n",
    "        pheno_transform_all.loc[pheno_transform_all[p] == np.nanmin(pheno_transform_all[p]),p] = new_min\n",
    "        \n",
    "    if np.sum(pheno_transform_all[p] == np.nanmax(pheno_transform_all[p])) > 1:\n",
    "        \n",
    "        new_max = pheno_transform_all[p].dropna().sort_values(ascending=False).unique()[1]\n",
    "        pheno_transform_all.loc[pheno_transform_all[p] == np.nanmax(pheno_transform_all[p]),p] = new_max\n",
    "        "
   ]
  },
  {
   "cell_type": "code",
   "execution_count": null,
   "metadata": {},
   "outputs": [],
   "source": [
    "ptcor = pheno_transform_all.corr()"
   ]
  },
  {
   "cell_type": "code",
   "execution_count": null,
   "metadata": {},
   "outputs": [],
   "source": [
    "sns.clustermap(ptcor, cmap='RdBu_r', center=0., figsize=(13,13))"
   ]
  },
  {
   "cell_type": "code",
   "execution_count": null,
   "metadata": {},
   "outputs": [],
   "source": [
    "# os.makedirs('./data/covariates/', exist_ok=True)\n",
    "# pheno_transform_all.to_csv('./data/covariates/phenotypes_transformed.tsv.gz', sep='\\t')\n",
    "# covar.to_csv('./data/covariates/covariates.tsv.gz', sep='\\t')"
   ]
  }
 ],
 "metadata": {
  "kernelspec": {
   "display_name": "seak",
   "language": "python",
   "name": "seak"
  },
  "language_info": {
   "codemirror_mode": {
    "name": "ipython",
    "version": 3
   },
   "file_extension": ".py",
   "mimetype": "text/x-python",
   "name": "python",
   "nbconvert_exporter": "python",
   "pygments_lexer": "ipython3",
   "version": "3.8.2"
  }
 },
 "nbformat": 4,
 "nbformat_minor": 4
}
