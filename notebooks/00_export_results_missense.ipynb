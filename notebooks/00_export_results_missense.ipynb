{
 "cells": [
  {
   "cell_type": "code",
   "execution_count": null,
   "metadata": {},
   "outputs": [],
   "source": [
    "import os\n",
    "# os.chdir('../')"
   ]
  },
  {
   "cell_type": "markdown",
   "metadata": {},
   "source": [
    "## Export results and calculate lambda for missense"
   ]
  },
  {
   "cell_type": "code",
   "execution_count": null,
   "metadata": {},
   "outputs": [],
   "source": [
    "import pandas as pd\n",
    "import numpy as np\n",
    "import gzip\n",
    "from glob import glob\n",
    "import yaml\n",
    "import scipy.stats as st"
   ]
  },
  {
   "cell_type": "code",
   "execution_count": null,
   "metadata": {},
   "outputs": [],
   "source": [
    "from script.python.util.snake import clean_str\n",
    "\n",
    "import yaml\n",
    "\n",
    "with open('conf/config.yaml') as f:\n",
    "    config = yaml.load(f, Loader=yaml.FullLoader)\n",
    "\n",
    "\n",
    "if config['phenotypes'].endswith('.gz'):\n",
    "    with gzip.open(config['phenotypes'],'rt') as f:\n",
    "        phenotypes = f.readline().rstrip().split('\\t')\n",
    "else:\n",
    "    with open(config['phenotypes'], 'r') as f:\n",
    "        phenotypes = f.readline.rstrip().split('\\t')\n",
    "\n",
    "phenotypes = { clean_str(p): p  for p in phenotypes[1:] }"
   ]
  },
  {
   "cell_type": "code",
   "execution_count": null,
   "metadata": {},
   "outputs": [],
   "source": [
    "def estimate_lambda(pv):\n",
    "\n",
    "    '''\n",
    "    estimate the lambda for a given array of P-values\n",
    "    ------------------------------------------------------------------\n",
    "    pv          numpy array containing the P-values\n",
    "    ------------------------------------------------------------------\n",
    "    L           lambda value\n",
    "    ------------------------------------------------------------------\n",
    "    '''\n",
    "    \n",
    "    LOD2 = np.median(st.chi2.isf(np.abs(pv[~np.isnan(pv)]), 1))\n",
    "    L = (LOD2/st.chi2(1).median())\n",
    "    \n",
    "    return L"
   ]
  },
  {
   "cell_type": "code",
   "execution_count": null,
   "metadata": {},
   "outputs": [],
   "source": [
    "def rename_cols(cols, suffix=''):\n",
    "    return {c: c+suffix if c not in ['gene', 'pheno'] else c for c in cols}"
   ]
  },
  {
   "cell_type": "code",
   "execution_count": null,
   "metadata": {},
   "outputs": [],
   "source": [
    "outfiles = glob('./work/association/sclrt_kernels_missense/all/*/results.tsv.gz')"
   ]
  },
  {
   "cell_type": "code",
   "execution_count": null,
   "metadata": {},
   "outputs": [],
   "source": [
    "results = [ pd.read_csv(s, sep='\\t', na_values='.') for s in outfiles ]\n",
    "results = pd.concat(results)\n",
    "pd.set_option('display.max_columns',100)"
   ]
  },
  {
   "cell_type": "code",
   "execution_count": null,
   "metadata": {},
   "outputs": [],
   "source": [
    "dropcols = list((c for c in results.columns if c.startswith('lrtstat_') or c.startswith('alteqnull_')))"
   ]
  },
  {
   "cell_type": "code",
   "execution_count": null,
   "metadata": {},
   "outputs": [],
   "source": [
    "results.drop(columns=dropcols, inplace=True)"
   ]
  },
  {
   "cell_type": "code",
   "execution_count": null,
   "metadata": {},
   "outputs": [],
   "source": [
    "results = results[results.nCarrier >= 5]"
   ]
  },
  {
   "cell_type": "code",
   "execution_count": null,
   "metadata": {},
   "outputs": [],
   "source": [
    "results.columns"
   ]
  },
  {
   "cell_type": "code",
   "execution_count": null,
   "metadata": {},
   "outputs": [],
   "source": [
    "# get the p-value columns\n",
    "pv_cols = list((c for c in results.columns if c.startswith('pv_')))\n",
    "get_cols = ['gene','nCarrier','cumMAC','n_snp','n_cluster'] + ['n_homo'] if 'n_homo' in results.columns else []\n",
    "get_cols =  get_cols + pv_cols + ['pheno']"
   ]
  },
  {
   "cell_type": "code",
   "execution_count": null,
   "metadata": {},
   "outputs": [],
   "source": [
    "get_cols"
   ]
  },
  {
   "cell_type": "code",
   "execution_count": null,
   "metadata": {},
   "outputs": [],
   "source": [
    "results = results[get_cols]"
   ]
  },
  {
   "cell_type": "code",
   "execution_count": null,
   "metadata": {},
   "outputs": [],
   "source": [
    "results.rename(columns=rename_cols(results.columns, '_miss'), inplace=True)"
   ]
  },
  {
   "cell_type": "code",
   "execution_count": null,
   "metadata": {},
   "outputs": [],
   "source": [
    "tmp = results.copy()\n",
    "\n",
    "pv_cols = list(c for c in tmp.columns if 'pv_' in c)\n",
    "for col in pv_cols:\n",
    "    if 'score' in col:\n",
    "        continue\n",
    "    if ('cLOF' in col) or ('mrgLOF' in col):\n",
    "        continue\n",
    "    kernel = col.split('_')[2]\n",
    "    effect = col.split('_')[-1]\n",
    "    \n",
    "    tmp.loc[tmp[col].isna(),col] = tmp.loc[tmp[col].isna(), 'pv_score_{}_{}'.format(kernel, effect)]\n",
    "    print(col)\n",
    "\n",
    "results = tmp\n",
    "del tmp"
   ]
  },
  {
   "cell_type": "code",
   "execution_count": null,
   "metadata": {},
   "outputs": [],
   "source": [
    "pv_cols = list(c for c in pv_cols if ('mrgLOF' not in c) and ('cLOF' not in c))"
   ]
  },
  {
   "cell_type": "code",
   "execution_count": null,
   "metadata": {},
   "outputs": [],
   "source": [
    "lambda_val =  results.groupby(['pheno'])[pv_cols].agg(estimate_lambda)"
   ]
  },
  {
   "cell_type": "code",
   "execution_count": null,
   "metadata": {},
   "outputs": [],
   "source": [
    "lambda_val"
   ]
  },
  {
   "cell_type": "code",
   "execution_count": null,
   "metadata": {},
   "outputs": [],
   "source": [
    "(lambda_val.pv_lrt_linwcollapsed_miss > lambda_val.pv_score_linwcollapsed_miss).sum()"
   ]
  },
  {
   "cell_type": "code",
   "execution_count": null,
   "metadata": {},
   "outputs": [],
   "source": [
    "pd.options.display.max_rows = 200"
   ]
  },
  {
   "cell_type": "code",
   "execution_count": null,
   "metadata": {},
   "outputs": [],
   "source": [
    "results[results.pv_lrt_linwcollapsed_miss <= 1.4e-8 ][['pheno']+results.columns[:-1].tolist()].sort_values(['gene','pv_lrt_linwcollapsed_miss'])"
   ]
  },
  {
   "cell_type": "code",
   "execution_count": null,
   "metadata": {},
   "outputs": [],
   "source": [
    "results[results.pv_lrt_linwb_miss <= 1.4e-8 ][['pheno']+results.columns[:-1].tolist()].sort_values(['gene','pv_lrt_linwb_miss'])"
   ]
  },
  {
   "cell_type": "code",
   "execution_count": null,
   "metadata": {},
   "outputs": [],
   "source": [
    "results[results.pv_lrt_linwb_mrgLOF_miss <= 1.4e-8 ][['pheno']+results.columns[:-1].tolist()].sort_values(['gene','pv_lrt_linwb_mrgLOF_miss'])"
   ]
  },
  {
   "cell_type": "code",
   "execution_count": null,
   "metadata": {},
   "outputs": [],
   "source": [
    "lambda_val.to_csv('results/tables/lambdaval_missense.tsv', sep='\\t')\n",
    "results.to_csv('results/tables/results_missense.tsv.gz', sep='\\t', index=False)"
   ]
  }
 ],
 "metadata": {
  "kernelspec": {
   "display_name": "seak",
   "language": "python",
   "name": "seak"
  },
  "language_info": {
   "codemirror_mode": {
    "name": "ipython",
    "version": 3
   },
   "file_extension": ".py",
   "mimetype": "text/x-python",
   "name": "python",
   "nbconvert_exporter": "python",
   "pygments_lexer": "ipython3",
   "version": "3.8.2"
  }
 },
 "nbformat": 4,
 "nbformat_minor": 4
}
